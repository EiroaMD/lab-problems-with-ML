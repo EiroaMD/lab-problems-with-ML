{
 "cells": [
  {
   "cell_type": "markdown",
   "metadata": {},
   "source": [
    "# Understanding Over & Underfitting\n",
    "## Predicting Boston Housing Prices"
   ]
  },
  {
   "cell_type": "markdown",
   "metadata": {},
   "source": [
    "## Getting Started\n",
    "In this project, you will use the Boston Housing Prices dataset to build several models to predict the prices of homes with particular qualities from the suburbs of Boston, MA.\n",
    "We will build models with several different parameters, which will change the goodness of fit for each. "
   ]
  },
  {
   "cell_type": "code",
   "execution_count": 41,
   "metadata": {
    "ExecuteTime": {
     "end_time": "2019-11-02T16:39:04.381873Z",
     "start_time": "2019-11-02T16:39:04.372650Z"
    }
   },
   "outputs": [
    {
     "data": {
      "text/html": [
       "<style>.container { width:100% !important; }</style>"
      ],
      "text/plain": [
       "<IPython.core.display.HTML object>"
      ]
     },
     "metadata": {},
     "output_type": "display_data"
    }
   ],
   "source": [
    "# Basic pandas and numpy\n",
    "import pandas as pd\n",
    "import numpy as np\n",
    " \n",
    "# Basic visualization tools\n",
    "import seaborn as sns\n",
    "import matplotlib.pyplot as plt\n",
    "%matplotlib inline\n",
    " \n",
    "# Pandas defaults\n",
    "pd.options.display.max_columns = 500\n",
    "pd.options.display.max_rows = 500\n",
    " \n",
    "# Make jupyter bigger\n",
    "from IPython.core.display import display, HTML\n",
    "display(HTML('<style>.container { width:100% !important; }</style>'))"
   ]
  },
  {
   "cell_type": "code",
   "execution_count": 72,
   "metadata": {
    "ExecuteTime": {
     "end_time": "2019-11-02T16:52:24.491672Z",
     "start_time": "2019-11-02T16:52:24.487972Z"
    }
   },
   "outputs": [],
   "source": [
    "#sklearn imports\n",
    "from sklearn.metrics import r2_score"
   ]
  },
  {
   "cell_type": "markdown",
   "metadata": {},
   "source": [
    "---\n",
    "## Data Exploration\n",
    "Since we want to predict the value of houses, the **target variable**, `'MEDV'`, will be the variable we seek to predict."
   ]
  },
  {
   "cell_type": "markdown",
   "metadata": {},
   "source": [
    "### Import and explore the data. Clean the data for outliers and missing values. "
   ]
  },
  {
   "cell_type": "code",
   "execution_count": 42,
   "metadata": {
    "ExecuteTime": {
     "end_time": "2019-11-02T16:39:04.445952Z",
     "start_time": "2019-11-02T16:39:04.384141Z"
    }
   },
   "outputs": [],
   "source": [
    "houses = pd.read_csv('../data/boston_data.csv')"
   ]
  },
  {
   "cell_type": "code",
   "execution_count": 43,
   "metadata": {
    "ExecuteTime": {
     "end_time": "2019-11-02T16:39:04.451435Z",
     "start_time": "2019-11-02T16:39:04.447972Z"
    }
   },
   "outputs": [
    {
     "data": {
      "text/plain": [
       "(404, 14)"
      ]
     },
     "execution_count": 43,
     "metadata": {},
     "output_type": "execute_result"
    }
   ],
   "source": [
    "houses.shape"
   ]
  },
  {
   "cell_type": "code",
   "execution_count": 44,
   "metadata": {
    "ExecuteTime": {
     "end_time": "2019-11-02T16:39:04.481346Z",
     "start_time": "2019-11-02T16:39:04.454333Z"
    }
   },
   "outputs": [
    {
     "data": {
      "text/html": [
       "<div>\n",
       "<style scoped>\n",
       "    .dataframe tbody tr th:only-of-type {\n",
       "        vertical-align: middle;\n",
       "    }\n",
       "\n",
       "    .dataframe tbody tr th {\n",
       "        vertical-align: top;\n",
       "    }\n",
       "\n",
       "    .dataframe thead th {\n",
       "        text-align: right;\n",
       "    }\n",
       "</style>\n",
       "<table border=\"1\" class=\"dataframe\">\n",
       "  <thead>\n",
       "    <tr style=\"text-align: right;\">\n",
       "      <th></th>\n",
       "      <th>crim</th>\n",
       "      <th>zn</th>\n",
       "      <th>indus</th>\n",
       "      <th>chas</th>\n",
       "      <th>nox</th>\n",
       "      <th>rm</th>\n",
       "      <th>age</th>\n",
       "      <th>dis</th>\n",
       "      <th>rad</th>\n",
       "      <th>tax</th>\n",
       "      <th>ptratio</th>\n",
       "      <th>black</th>\n",
       "      <th>lstat</th>\n",
       "      <th>medv</th>\n",
       "    </tr>\n",
       "  </thead>\n",
       "  <tbody>\n",
       "    <tr>\n",
       "      <th>0</th>\n",
       "      <td>0.15876</td>\n",
       "      <td>0.0</td>\n",
       "      <td>10.81</td>\n",
       "      <td>0.0</td>\n",
       "      <td>0.413</td>\n",
       "      <td>5.961</td>\n",
       "      <td>17.5</td>\n",
       "      <td>5.2873</td>\n",
       "      <td>4.0</td>\n",
       "      <td>305.0</td>\n",
       "      <td>19.2</td>\n",
       "      <td>376.94</td>\n",
       "      <td>9.88</td>\n",
       "      <td>21.7</td>\n",
       "    </tr>\n",
       "    <tr>\n",
       "      <th>1</th>\n",
       "      <td>0.10328</td>\n",
       "      <td>25.0</td>\n",
       "      <td>5.13</td>\n",
       "      <td>0.0</td>\n",
       "      <td>0.453</td>\n",
       "      <td>5.927</td>\n",
       "      <td>47.2</td>\n",
       "      <td>6.9320</td>\n",
       "      <td>8.0</td>\n",
       "      <td>284.0</td>\n",
       "      <td>19.7</td>\n",
       "      <td>396.90</td>\n",
       "      <td>9.22</td>\n",
       "      <td>19.6</td>\n",
       "    </tr>\n",
       "    <tr>\n",
       "      <th>2</th>\n",
       "      <td>0.34940</td>\n",
       "      <td>0.0</td>\n",
       "      <td>9.90</td>\n",
       "      <td>0.0</td>\n",
       "      <td>0.544</td>\n",
       "      <td>5.972</td>\n",
       "      <td>76.7</td>\n",
       "      <td>3.1025</td>\n",
       "      <td>4.0</td>\n",
       "      <td>304.0</td>\n",
       "      <td>18.4</td>\n",
       "      <td>396.24</td>\n",
       "      <td>9.97</td>\n",
       "      <td>20.3</td>\n",
       "    </tr>\n",
       "    <tr>\n",
       "      <th>3</th>\n",
       "      <td>2.73397</td>\n",
       "      <td>0.0</td>\n",
       "      <td>19.58</td>\n",
       "      <td>0.0</td>\n",
       "      <td>0.871</td>\n",
       "      <td>5.597</td>\n",
       "      <td>94.9</td>\n",
       "      <td>1.5257</td>\n",
       "      <td>5.0</td>\n",
       "      <td>403.0</td>\n",
       "      <td>14.7</td>\n",
       "      <td>351.85</td>\n",
       "      <td>21.45</td>\n",
       "      <td>15.4</td>\n",
       "    </tr>\n",
       "    <tr>\n",
       "      <th>4</th>\n",
       "      <td>0.04337</td>\n",
       "      <td>21.0</td>\n",
       "      <td>5.64</td>\n",
       "      <td>0.0</td>\n",
       "      <td>0.439</td>\n",
       "      <td>6.115</td>\n",
       "      <td>63.0</td>\n",
       "      <td>6.8147</td>\n",
       "      <td>4.0</td>\n",
       "      <td>243.0</td>\n",
       "      <td>16.8</td>\n",
       "      <td>393.97</td>\n",
       "      <td>9.43</td>\n",
       "      <td>20.5</td>\n",
       "    </tr>\n",
       "  </tbody>\n",
       "</table>\n",
       "</div>"
      ],
      "text/plain": [
       "      crim    zn  indus  chas    nox     rm   age     dis  rad    tax  \\\n",
       "0  0.15876   0.0  10.81   0.0  0.413  5.961  17.5  5.2873  4.0  305.0   \n",
       "1  0.10328  25.0   5.13   0.0  0.453  5.927  47.2  6.9320  8.0  284.0   \n",
       "2  0.34940   0.0   9.90   0.0  0.544  5.972  76.7  3.1025  4.0  304.0   \n",
       "3  2.73397   0.0  19.58   0.0  0.871  5.597  94.9  1.5257  5.0  403.0   \n",
       "4  0.04337  21.0   5.64   0.0  0.439  6.115  63.0  6.8147  4.0  243.0   \n",
       "\n",
       "   ptratio   black  lstat  medv  \n",
       "0     19.2  376.94   9.88  21.7  \n",
       "1     19.7  396.90   9.22  19.6  \n",
       "2     18.4  396.24   9.97  20.3  \n",
       "3     14.7  351.85  21.45  15.4  \n",
       "4     16.8  393.97   9.43  20.5  "
      ]
     },
     "execution_count": 44,
     "metadata": {},
     "output_type": "execute_result"
    }
   ],
   "source": [
    "houses.head()"
   ]
  },
  {
   "cell_type": "code",
   "execution_count": 45,
   "metadata": {
    "ExecuteTime": {
     "end_time": "2019-11-02T16:39:04.488616Z",
     "start_time": "2019-11-02T16:39:04.483871Z"
    }
   },
   "outputs": [
    {
     "data": {
      "text/plain": [
       "crim       0\n",
       "zn         0\n",
       "indus      0\n",
       "chas       0\n",
       "nox        0\n",
       "rm         0\n",
       "age        0\n",
       "dis        0\n",
       "rad        0\n",
       "tax        0\n",
       "ptratio    0\n",
       "black      0\n",
       "lstat      0\n",
       "medv       0\n",
       "dtype: int64"
      ]
     },
     "execution_count": 45,
     "metadata": {},
     "output_type": "execute_result"
    }
   ],
   "source": [
    "houses.isna().sum()"
   ]
  },
  {
   "cell_type": "code",
   "execution_count": 46,
   "metadata": {
    "ExecuteTime": {
     "end_time": "2019-11-02T16:39:04.550918Z",
     "start_time": "2019-11-02T16:39:04.490332Z"
    }
   },
   "outputs": [
    {
     "data": {
      "text/html": [
       "<div>\n",
       "<style scoped>\n",
       "    .dataframe tbody tr th:only-of-type {\n",
       "        vertical-align: middle;\n",
       "    }\n",
       "\n",
       "    .dataframe tbody tr th {\n",
       "        vertical-align: top;\n",
       "    }\n",
       "\n",
       "    .dataframe thead th {\n",
       "        text-align: right;\n",
       "    }\n",
       "</style>\n",
       "<table border=\"1\" class=\"dataframe\">\n",
       "  <thead>\n",
       "    <tr style=\"text-align: right;\">\n",
       "      <th></th>\n",
       "      <th>count</th>\n",
       "      <th>mean</th>\n",
       "      <th>std</th>\n",
       "      <th>min</th>\n",
       "      <th>25%</th>\n",
       "      <th>50%</th>\n",
       "      <th>75%</th>\n",
       "      <th>max</th>\n",
       "    </tr>\n",
       "  </thead>\n",
       "  <tbody>\n",
       "    <tr>\n",
       "      <th>crim</th>\n",
       "      <td>404.0</td>\n",
       "      <td>3.730912</td>\n",
       "      <td>8.943922</td>\n",
       "      <td>0.00632</td>\n",
       "      <td>0.082382</td>\n",
       "      <td>0.253715</td>\n",
       "      <td>4.053158</td>\n",
       "      <td>88.9762</td>\n",
       "    </tr>\n",
       "    <tr>\n",
       "      <th>zn</th>\n",
       "      <td>404.0</td>\n",
       "      <td>10.509901</td>\n",
       "      <td>22.053733</td>\n",
       "      <td>0.00000</td>\n",
       "      <td>0.000000</td>\n",
       "      <td>0.000000</td>\n",
       "      <td>12.500000</td>\n",
       "      <td>95.0000</td>\n",
       "    </tr>\n",
       "    <tr>\n",
       "      <th>indus</th>\n",
       "      <td>404.0</td>\n",
       "      <td>11.189901</td>\n",
       "      <td>6.814909</td>\n",
       "      <td>0.46000</td>\n",
       "      <td>5.190000</td>\n",
       "      <td>9.795000</td>\n",
       "      <td>18.100000</td>\n",
       "      <td>27.7400</td>\n",
       "    </tr>\n",
       "    <tr>\n",
       "      <th>chas</th>\n",
       "      <td>404.0</td>\n",
       "      <td>0.069307</td>\n",
       "      <td>0.254290</td>\n",
       "      <td>0.00000</td>\n",
       "      <td>0.000000</td>\n",
       "      <td>0.000000</td>\n",
       "      <td>0.000000</td>\n",
       "      <td>1.0000</td>\n",
       "    </tr>\n",
       "    <tr>\n",
       "      <th>nox</th>\n",
       "      <td>404.0</td>\n",
       "      <td>0.556710</td>\n",
       "      <td>0.117321</td>\n",
       "      <td>0.39200</td>\n",
       "      <td>0.453000</td>\n",
       "      <td>0.538000</td>\n",
       "      <td>0.631000</td>\n",
       "      <td>0.8710</td>\n",
       "    </tr>\n",
       "    <tr>\n",
       "      <th>rm</th>\n",
       "      <td>404.0</td>\n",
       "      <td>6.301450</td>\n",
       "      <td>0.675830</td>\n",
       "      <td>3.56100</td>\n",
       "      <td>5.902750</td>\n",
       "      <td>6.230500</td>\n",
       "      <td>6.629250</td>\n",
       "      <td>8.7800</td>\n",
       "    </tr>\n",
       "    <tr>\n",
       "      <th>age</th>\n",
       "      <td>404.0</td>\n",
       "      <td>68.601733</td>\n",
       "      <td>28.066143</td>\n",
       "      <td>2.90000</td>\n",
       "      <td>45.800000</td>\n",
       "      <td>76.600000</td>\n",
       "      <td>94.150000</td>\n",
       "      <td>100.0000</td>\n",
       "    </tr>\n",
       "    <tr>\n",
       "      <th>dis</th>\n",
       "      <td>404.0</td>\n",
       "      <td>3.799666</td>\n",
       "      <td>2.109916</td>\n",
       "      <td>1.16910</td>\n",
       "      <td>2.087875</td>\n",
       "      <td>3.207450</td>\n",
       "      <td>5.222125</td>\n",
       "      <td>12.1265</td>\n",
       "    </tr>\n",
       "    <tr>\n",
       "      <th>rad</th>\n",
       "      <td>404.0</td>\n",
       "      <td>9.836634</td>\n",
       "      <td>8.834741</td>\n",
       "      <td>1.00000</td>\n",
       "      <td>4.000000</td>\n",
       "      <td>5.000000</td>\n",
       "      <td>24.000000</td>\n",
       "      <td>24.0000</td>\n",
       "    </tr>\n",
       "    <tr>\n",
       "      <th>tax</th>\n",
       "      <td>404.0</td>\n",
       "      <td>411.688119</td>\n",
       "      <td>171.073553</td>\n",
       "      <td>187.00000</td>\n",
       "      <td>281.000000</td>\n",
       "      <td>330.000000</td>\n",
       "      <td>666.000000</td>\n",
       "      <td>711.0000</td>\n",
       "    </tr>\n",
       "    <tr>\n",
       "      <th>ptratio</th>\n",
       "      <td>404.0</td>\n",
       "      <td>18.444554</td>\n",
       "      <td>2.150295</td>\n",
       "      <td>12.60000</td>\n",
       "      <td>17.375000</td>\n",
       "      <td>19.000000</td>\n",
       "      <td>20.200000</td>\n",
       "      <td>22.0000</td>\n",
       "    </tr>\n",
       "    <tr>\n",
       "      <th>black</th>\n",
       "      <td>404.0</td>\n",
       "      <td>355.068243</td>\n",
       "      <td>94.489572</td>\n",
       "      <td>0.32000</td>\n",
       "      <td>374.710000</td>\n",
       "      <td>391.065000</td>\n",
       "      <td>396.007500</td>\n",
       "      <td>396.9000</td>\n",
       "    </tr>\n",
       "    <tr>\n",
       "      <th>lstat</th>\n",
       "      <td>404.0</td>\n",
       "      <td>12.598936</td>\n",
       "      <td>6.925173</td>\n",
       "      <td>1.73000</td>\n",
       "      <td>7.135000</td>\n",
       "      <td>11.265000</td>\n",
       "      <td>16.910000</td>\n",
       "      <td>34.3700</td>\n",
       "    </tr>\n",
       "    <tr>\n",
       "      <th>medv</th>\n",
       "      <td>404.0</td>\n",
       "      <td>22.312376</td>\n",
       "      <td>8.837019</td>\n",
       "      <td>5.00000</td>\n",
       "      <td>17.100000</td>\n",
       "      <td>21.400000</td>\n",
       "      <td>25.000000</td>\n",
       "      <td>50.0000</td>\n",
       "    </tr>\n",
       "  </tbody>\n",
       "</table>\n",
       "</div>"
      ],
      "text/plain": [
       "         count        mean         std        min         25%         50%  \\\n",
       "crim     404.0    3.730912    8.943922    0.00632    0.082382    0.253715   \n",
       "zn       404.0   10.509901   22.053733    0.00000    0.000000    0.000000   \n",
       "indus    404.0   11.189901    6.814909    0.46000    5.190000    9.795000   \n",
       "chas     404.0    0.069307    0.254290    0.00000    0.000000    0.000000   \n",
       "nox      404.0    0.556710    0.117321    0.39200    0.453000    0.538000   \n",
       "rm       404.0    6.301450    0.675830    3.56100    5.902750    6.230500   \n",
       "age      404.0   68.601733   28.066143    2.90000   45.800000   76.600000   \n",
       "dis      404.0    3.799666    2.109916    1.16910    2.087875    3.207450   \n",
       "rad      404.0    9.836634    8.834741    1.00000    4.000000    5.000000   \n",
       "tax      404.0  411.688119  171.073553  187.00000  281.000000  330.000000   \n",
       "ptratio  404.0   18.444554    2.150295   12.60000   17.375000   19.000000   \n",
       "black    404.0  355.068243   94.489572    0.32000  374.710000  391.065000   \n",
       "lstat    404.0   12.598936    6.925173    1.73000    7.135000   11.265000   \n",
       "medv     404.0   22.312376    8.837019    5.00000   17.100000   21.400000   \n",
       "\n",
       "                75%       max  \n",
       "crim       4.053158   88.9762  \n",
       "zn        12.500000   95.0000  \n",
       "indus     18.100000   27.7400  \n",
       "chas       0.000000    1.0000  \n",
       "nox        0.631000    0.8710  \n",
       "rm         6.629250    8.7800  \n",
       "age       94.150000  100.0000  \n",
       "dis        5.222125   12.1265  \n",
       "rad       24.000000   24.0000  \n",
       "tax      666.000000  711.0000  \n",
       "ptratio   20.200000   22.0000  \n",
       "black    396.007500  396.9000  \n",
       "lstat     16.910000   34.3700  \n",
       "medv      25.000000   50.0000  "
      ]
     },
     "execution_count": 46,
     "metadata": {},
     "output_type": "execute_result"
    }
   ],
   "source": [
    "houses.describe().T"
   ]
  },
  {
   "cell_type": "code",
   "execution_count": 47,
   "metadata": {
    "ExecuteTime": {
     "end_time": "2019-11-02T16:39:04.561165Z",
     "start_time": "2019-11-02T16:39:04.554809Z"
    }
   },
   "outputs": [
    {
     "data": {
      "text/plain": [
       "crim       float64\n",
       "zn         float64\n",
       "indus      float64\n",
       "chas       float64\n",
       "nox        float64\n",
       "rm         float64\n",
       "age        float64\n",
       "dis        float64\n",
       "rad        float64\n",
       "tax        float64\n",
       "ptratio    float64\n",
       "black      float64\n",
       "lstat      float64\n",
       "medv       float64\n",
       "dtype: object"
      ]
     },
     "execution_count": 47,
     "metadata": {},
     "output_type": "execute_result"
    }
   ],
   "source": [
    "houses.dtypes"
   ]
  },
  {
   "cell_type": "code",
   "execution_count": 48,
   "metadata": {
    "ExecuteTime": {
     "end_time": "2019-11-02T16:39:05.067303Z",
     "start_time": "2019-11-02T16:39:04.564192Z"
    }
   },
   "outputs": [
    {
     "data": {
      "text/plain": [
       "<matplotlib.axes._subplots.AxesSubplot at 0x7f276c65ea90>"
      ]
     },
     "execution_count": 48,
     "metadata": {},
     "output_type": "execute_result"
    },
    {
     "data": {
      "image/png": "[encoded data removed]",
      "text/plain": [
       "<Figure size 1152x720 with 1 Axes>"
      ]
     },
     "metadata": {
      "needs_background": "light"
     },
     "output_type": "display_data"
    }
   ],
   "source": [
    "plt.figure(figsize=(16,10))\n",
    "sns.boxplot(data=houses, palette='nipy_spectral')"
   ]
  },
  {
   "cell_type": "markdown",
   "metadata": {},
   "source": [
    "There is variability on the magnitudes of variables, so I scale them and plot them again"
   ]
  },
  {
   "cell_type": "code",
   "execution_count": 49,
   "metadata": {
    "ExecuteTime": {
     "end_time": "2019-11-02T16:39:05.547226Z",
     "start_time": "2019-11-02T16:39:05.069227Z"
    }
   },
   "outputs": [
    {
     "data": {
      "text/plain": [
       "<matplotlib.axes._subplots.AxesSubplot at 0x7f276c488f60>"
      ]
     },
     "execution_count": 49,
     "metadata": {},
     "output_type": "execute_result"
    },
    {
     "data": {
      "image/png": "[encoded data removed]",
      "text/plain": [
       "<Figure size 1152x720 with 1 Axes>"
      ]
     },
     "metadata": {
      "needs_background": "light"
     },
     "output_type": "display_data"
    }
   ],
   "source": [
    "# Scaling:\n",
    "from sklearn.preprocessing import MinMaxScaler\n",
    "\n",
    "for col in list(houses.columns):\n",
    "    houses[col] = MinMaxScaler().fit_transform(houses[col].values.reshape(-1,1))\n",
    "\n",
    "# Replotting:\n",
    "plt.figure(figsize=(16,10))\n",
    "sns.boxplot(data=houses, palette='nipy_spectral')"
   ]
  },
  {
   "cell_type": "markdown",
   "metadata": {},
   "source": [
    "There are a few outliers, specially in the black column."
   ]
  },
  {
   "cell_type": "code",
   "execution_count": 50,
   "metadata": {
    "ExecuteTime": {
     "end_time": "2019-11-02T16:39:08.660037Z",
     "start_time": "2019-11-02T16:39:08.650395Z"
    }
   },
   "outputs": [],
   "source": [
    "q1, q3 = np.percentile(houses['black'], [25,75])\n",
    "iqr = q3-q1\n",
    "upper_fence = q3 + 3 * iqr\n",
    "lower_fence = q1 - 3 * iqr\n",
    "\n",
    "houses['black'] = houses['black'].loc[(houses['black'] > lower_fence) & (houses['black'] < upper_fence)]\n",
    "houses.dropna(inplace=True)"
   ]
  },
  {
   "cell_type": "code",
   "execution_count": 57,
   "metadata": {
    "ExecuteTime": {
     "end_time": "2019-11-02T16:40:43.285476Z",
     "start_time": "2019-11-02T16:40:42.834190Z"
    }
   },
   "outputs": [
    {
     "data": {
      "text/plain": [
       "<matplotlib.axes._subplots.AxesSubplot at 0x7f276aee67f0>"
      ]
     },
     "execution_count": 57,
     "metadata": {},
     "output_type": "execute_result"
    },
    {
     "data": {
      "image/png": "[encoded data removed]",
      "text/plain": [
       "<Figure size 1152x720 with 1 Axes>"
      ]
     },
     "metadata": {
      "needs_background": "light"
     },
     "output_type": "display_data"
    }
   ],
   "source": [
    "plt.figure(figsize=(16,10))\n",
    "sns.boxplot(data=houses, palette='nipy_spectral')"
   ]
  },
  {
   "cell_type": "markdown",
   "metadata": {},
   "source": [
    "### Next, we want to explore the data. Pick several varibables you think will be ost correlated with the prices of homes in Boston, and create plots that show the data dispersion as well as the regression line of best fit."
   ]
  },
  {
   "cell_type": "code",
   "execution_count": null,
   "metadata": {},
   "outputs": [],
   "source": [
    " y_vars=['age'],\n",
    "                  x_vars=['weight', 'height', 'happiness'])"
   ]
  },
  {
   "cell_type": "code",
   "execution_count": 68,
   "metadata": {
    "ExecuteTime": {
     "end_time": "2019-11-02T16:48:14.581180Z",
     "start_time": "2019-11-02T16:48:13.779749Z"
    }
   },
   "outputs": [
    {
     "data": {
      "text/plain": [
       "<seaborn.axisgrid.PairGrid at 0x7f27687e7080>"
      ]
     },
     "execution_count": 68,
     "metadata": {},
     "output_type": "execute_result"
    },
    {
     "data": {
      "image/png": "[encoded data removed]",
      "text/plain": [
       "<Figure size 720x180 with 4 Axes>"
      ]
     },
     "metadata": {
      "needs_background": "light"
     },
     "output_type": "display_data"
    }
   ],
   "source": [
    "used_ind = ['crim', 'age', 'rm', 'lstat']\n",
    "used_dep = ['medv']\n",
    "sns.pairplot(data= houses,\n",
    "             y_vars=used_dep, \n",
    "             x_vars=used_ind, \n",
    "             kind='reg', \n",
    "             palette='')"
   ]
  },
  {
   "cell_type": "markdown",
   "metadata": {},
   "source": [
    "### What do these plots tell you about the relationships between these variables and the prices of homes in Boston? Are these the relationships you expected to see in these variables?"
   ]
  },
  {
   "cell_type": "code",
   "execution_count": 62,
   "metadata": {
    "ExecuteTime": {
     "end_time": "2019-11-02T16:46:16.432989Z",
     "start_time": "2019-11-02T16:46:16.427426Z"
    }
   },
   "outputs": [],
   "source": [
    "# rm (number of rooms) seems to be the the most directly correlated. \n",
    "# crm (crime) and lstat (lower status) seems to be the the most inversely correlated. "
   ]
  },
  {
   "cell_type": "markdown",
   "metadata": {},
   "source": [
    "### Make a heatmap of the remaining variables. Are there any variables that you did not consider that have very high correlations? What are they?"
   ]
  },
  {
   "cell_type": "code",
   "execution_count": 70,
   "metadata": {
    "ExecuteTime": {
     "end_time": "2019-11-02T16:49:20.540491Z",
     "start_time": "2019-11-02T16:49:20.167829Z"
    }
   },
   "outputs": [
    {
     "data": {
      "text/plain": [
       "<matplotlib.axes._subplots.AxesSubplot at 0x7f2768587860>"
      ]
     },
     "execution_count": 70,
     "metadata": {},
     "output_type": "execute_result"
    },
    {
     "data": {
      "image/png": "[encoded data removed]",
      "text/plain": [
       "<Figure size 1008x504 with 2 Axes>"
      ]
     },
     "metadata": {
      "needs_background": "light"
     },
     "output_type": "display_data"
    }
   ],
   "source": [
    "# Set Variables:\n",
    "cormat = houses[[col for col in list(houses.columns) if ((col not in used_ind) & (col not in used_dep))]].corr()\n",
    "figsize = (14, 7)\n",
    "vmin= -1 # Sets maximum color\n",
    "vmax= 1 # Sets minimum color\n",
    "cmap = 'coolwarm' # Palette\n",
    " \n",
    "# Create mask for upper half:\n",
    "mask = np.zeros_like(cormat, dtype=np.bool)\n",
    "mask[np.triu_indices_from(mask)] = True\n",
    " \n",
    "# Plot figure:\n",
    "plt.figure(figsize=figsize)\n",
    "sns.heatmap(cormat,\n",
    "vmin=vmin, vmax=vmax,\n",
    "cmap=cmap,\n",
    "annot=True,\n",
    "mask= mask)"
   ]
  },
  {
   "cell_type": "markdown",
   "metadata": {
    "ExecuteTime": {
     "end_time": "2019-10-23T22:05:57.111660Z",
     "start_time": "2019-10-23T22:05:57.103807Z"
    }
   },
   "source": [
    "Tax and Rad (accesibility to radial highways) are strongly positively correlated... which I can't really make sense of..."
   ]
  },
  {
   "cell_type": "markdown",
   "metadata": {},
   "source": [
    "### Calculate Statistics\n",
    "Calculate descriptive statistics for housing price. Include the minimum, maximum, mean, median, and standard deviation. "
   ]
  },
  {
   "cell_type": "code",
   "execution_count": 71,
   "metadata": {
    "ExecuteTime": {
     "end_time": "2019-11-02T16:51:08.165612Z",
     "start_time": "2019-11-02T16:51:08.117308Z"
    }
   },
   "outputs": [
    {
     "data": {
      "text/plain": [
       "count    357.000000\n",
       "mean       0.409262\n",
       "std        0.193062\n",
       "min        0.000000\n",
       "25%        0.308889\n",
       "50%        0.377778\n",
       "75%        0.480000\n",
       "max        1.000000\n",
       "Name: medv, dtype: float64"
      ]
     },
     "execution_count": 71,
     "metadata": {},
     "output_type": "execute_result"
    }
   ],
   "source": [
    "houses.describe()['medv']"
   ]
  },
  {
   "cell_type": "markdown",
   "metadata": {},
   "source": [
    "----\n",
    "\n",
    "## Developing a Model"
   ]
  },
  {
   "cell_type": "markdown",
   "metadata": {},
   "source": [
    "### Implementation: Define a Performance Metric\n",
    "What is the performance meteric with which you will determine the performance of your model? Create a function that calculates this performance metric, and then returns the score. "
   ]
  },
  {
   "cell_type": "code",
   "execution_count": 73,
   "metadata": {
    "ExecuteTime": {
     "end_time": "2019-11-02T16:52:43.027110Z",
     "start_time": "2019-11-02T16:52:43.023631Z"
    }
   },
   "outputs": [],
   "source": [
    "def performance_metric(y_train, y_predict):\n",
    "    \"\"\" Calculates and returns the performance score between \n",
    "        true and predicted values based on the metric chosen. \"\"\"\n",
    "    # Your code here:\n",
    "    return r2_score(y_train, y_predict)"
   ]
  },
  {
   "cell_type": "markdown",
   "metadata": {},
   "source": [
    "### Implementation: Shuffle and Split Data\n",
    "Split the data into the testing and training datasets. Shuffle the data as well to remove any bias in selecting the traing and test. "
   ]
  },
  {
   "cell_type": "code",
   "execution_count": 97,
   "metadata": {
    "ExecuteTime": {
     "end_time": "2019-11-02T17:19:59.324714Z",
     "start_time": "2019-11-02T17:19:59.314451Z"
    }
   },
   "outputs": [],
   "source": [
    "from sklearn.model_selection import train_test_split\n",
    "\n",
    "houses_X = houses[[col for col in list(houses.columns) if col != 'medv']]\n",
    "houses_y = houses['medv']\n",
    "\n",
    "X_train, X_test, y_train, y_test = train_test_split(houses_X, \n",
    "                                                    houses_y, \n",
    "                                                    test_size=0.25,\n",
    "                                                    random_state=20,\n",
    "                                                    shuffle=True)"
   ]
  },
  {
   "cell_type": "markdown",
   "metadata": {},
   "source": [
    "----\n",
    "\n",
    "## Analyzing Model Performance\n",
    "Next, we are going to build a Random Forest Regressor, and test its performance with several different parameter settings."
   ]
  },
  {
   "cell_type": "markdown",
   "metadata": {},
   "source": [
    "### Learning Curves\n",
    "Lets build the different models. Set the max_depth parameter to 2, 4, 6, 8, and 10 respectively. "
   ]
  },
  {
   "cell_type": "code",
   "execution_count": 75,
   "metadata": {
    "ExecuteTime": {
     "end_time": "2019-11-02T16:53:12.399092Z",
     "start_time": "2019-11-02T16:53:12.305496Z"
    }
   },
   "outputs": [],
   "source": [
    "from sklearn.ensemble import RandomForestRegressor"
   ]
  },
  {
   "cell_type": "code",
   "execution_count": 76,
   "metadata": {
    "ExecuteTime": {
     "end_time": "2019-11-02T16:53:24.252302Z",
     "start_time": "2019-11-02T16:53:24.165981Z"
    }
   },
   "outputs": [],
   "source": [
    "max_depths = [2, 4, 6, 8, 10]\n",
    "dict_train = {}\n",
    "dict_test = {}\n",
    "\n",
    "for i in max_depths:\n",
    "    max_depth = i\n",
    "    RFR = RandomForestRegressor(n_estimators=10, max_depth=max_depth).fit(X_train, y_train)\n",
    "    y_predict_train = RFR.predict(X_train)\n",
    "    y_predict_test = RFR.predict(X_test)\n",
    "    r2_train = performance_metric(y_train, y_predict_train)\n",
    "    r2_test = performance_metric(y_test, y_predict_test)\n",
    "    dict_train[str(i)] = r2_train\n",
    "    dict_test[str(i)] = r2_test    "
   ]
  },
  {
   "cell_type": "markdown",
   "metadata": {},
   "source": [
    "Now, plot the score for each tree on the training set and on the testing set."
   ]
  },
  {
   "cell_type": "code",
   "execution_count": 79,
   "metadata": {
    "ExecuteTime": {
     "end_time": "2019-11-02T16:56:38.479619Z",
     "start_time": "2019-11-02T16:56:38.280131Z"
    }
   },
   "outputs": [
    {
     "data": {
      "text/plain": [
       "<matplotlib.legend.Legend at 0x7f2762182390>"
      ]
     },
     "execution_count": 79,
     "metadata": {},
     "output_type": "execute_result"
    },
    {
     "data": {
      "image/png": "[encoded data removed]",
      "text/plain": [
       "<Figure size 720x576 with 1 Axes>"
      ]
     },
     "metadata": {
      "needs_background": "light"
     },
     "output_type": "display_data"
    }
   ],
   "source": [
    "# Produce a plot with the score for the testing and training for the different max depths\n",
    "plt.figure(figsize=(10,8))\n",
    "plt.plot(*zip(*(dict_test.items())), label='test')\n",
    "plt.plot(*zip(*(dict_train.items())), label='train')\n",
    "plt.xlabel('Max Depth')\n",
    "plt.ylabel('R2-Score')\n",
    "plt.legend()"
   ]
  },
  {
   "cell_type": "markdown",
   "metadata": {},
   "source": [
    "What do these results tell you about the effect of the depth of the trees on the performance of the model?"
   ]
  },
  {
   "cell_type": "code",
   "execution_count": 80,
   "metadata": {
    "ExecuteTime": {
     "end_time": "2019-11-02T16:57:18.320908Z",
     "start_time": "2019-11-02T16:57:18.318467Z"
    }
   },
   "outputs": [],
   "source": [
    "# It comes to a point (around a max depth of 4) where the predictions, according to R2 score, do not improve our model, and it causes overfitting"
   ]
  },
  {
   "cell_type": "markdown",
   "metadata": {},
   "source": [
    "### Bias-Variance Tradeoff\n",
    "When the model is trained with a maximum depth of 1, does the model suffer from high bias or from high variance? How about when the model is trained with a maximum depth of 10?"
   ]
  },
  {
   "cell_type": "code",
   "execution_count": 168,
   "metadata": {
    "ExecuteTime": {
     "end_time": "2019-11-02T17:45:45.528578Z",
     "start_time": "2019-11-02T17:45:45.520929Z"
    }
   },
   "outputs": [],
   "source": [
    "finaldf_train = pd.DataFrame(y_train).reset_index(drop=True).rename(columns={'medv':'ground_truth'})\n",
    "finaldf_test = pd.DataFrame(y_test).reset_index(drop=True).rename(columns={'medv':'ground_truth'})"
   ]
  },
  {
   "cell_type": "code",
   "execution_count": 169,
   "metadata": {
    "ExecuteTime": {
     "end_time": "2019-11-02T17:45:46.047846Z",
     "start_time": "2019-11-02T17:45:46.004170Z"
    }
   },
   "outputs": [
    {
     "name": "stderr",
     "output_type": "stream",
     "text": [
      "[Parallel(n_jobs=1)]: Using backend SequentialBackend with 1 concurrent workers.\n",
      "[Parallel(n_jobs=1)]: Done  10 out of  10 | elapsed:    0.0s finished\n",
      "[Parallel(n_jobs=1)]: Using backend SequentialBackend with 1 concurrent workers.\n",
      "[Parallel(n_jobs=1)]: Done  10 out of  10 | elapsed:    0.0s finished\n",
      "[Parallel(n_jobs=1)]: Using backend SequentialBackend with 1 concurrent workers.\n",
      "[Parallel(n_jobs=1)]: Done  10 out of  10 | elapsed:    0.0s finished\n",
      "[Parallel(n_jobs=1)]: Using backend SequentialBackend with 1 concurrent workers.\n",
      "[Parallel(n_jobs=1)]: Done  10 out of  10 | elapsed:    0.0s finished\n",
      "[Parallel(n_jobs=1)]: Using backend SequentialBackend with 1 concurrent workers.\n",
      "[Parallel(n_jobs=1)]: Done  10 out of  10 | elapsed:    0.0s finished\n",
      "[Parallel(n_jobs=1)]: Using backend SequentialBackend with 1 concurrent workers.\n",
      "[Parallel(n_jobs=1)]: Done  10 out of  10 | elapsed:    0.0s finished\n"
     ]
    }
   ],
   "source": [
    "max_depth = [1, 10]\n",
    "for i in max_depth:\n",
    "    model_depth_1 = RandomForestRegressor(max_depth=i, random_state=20, n_estimators=10, verbose=True)  # Initiate model\n",
    "    model_depth_1.fit(X_train, y_train) # Fit model\n",
    "    \n",
    "    y_predict_train = model_depth_1.predict(X_train) \n",
    "    y_predict_test = model_depth_1.predict(X_test)\n",
    "    \n",
    "    # Adding predictions for train and test to each dataframe\n",
    "    finaldf_train = pd.concat([finaldf_train, pd.DataFrame(y_predict_train)], axis=1).rename(columns={0:'y_train_depth_{}'.format(str(i))})\n",
    "    finaldf_test = pd.concat([finaldf_test, pd.DataFrame(y_predict_test)], axis=1).rename(columns={0:'y_test_depth_{}'.format(str(i))})"
   ]
  },
  {
   "cell_type": "code",
   "execution_count": 182,
   "metadata": {
    "ExecuteTime": {
     "end_time": "2019-11-02T17:53:14.289109Z",
     "start_time": "2019-11-02T17:53:13.935188Z"
    }
   },
   "outputs": [
    {
     "name": "stderr",
     "output_type": "stream",
     "text": [
      "/home/eiroamd/.local/lib/python3.6/site-packages/seaborn/axisgrid.py:2065: UserWarning: The `size` parameter has been renamed to `height`; pleaes update your code.\n",
      "  warnings.warn(msg, UserWarning)\n"
     ]
    },
    {
     "data": {
      "text/plain": [
       "Text(0.5, 0.98, 'Variance and Bias for TRAIN dataframe')"
      ]
     },
     "execution_count": 182,
     "metadata": {},
     "output_type": "execute_result"
    },
    {
     "data": {
      "image/png": "[encoded data removed]",
      "text/plain": [
       "<Figure size 720x360 with 2 Axes>"
      ]
     },
     "metadata": {
      "needs_background": "light"
     },
     "output_type": "display_data"
    }
   ],
   "source": [
    "used_ind = ['y_train_depth_1', 'y_train_depth_10']\n",
    "used_dep = ['ground_truth']\n",
    "sns.pairplot(data= finaldf_train,\n",
    "             y_vars=used_dep, \n",
    "             x_vars=used_ind,\n",
    "             size=5)\n",
    "plt.suptitle('Variance and Bias for TRAIN dataframe', fontsize='large')"
   ]
  },
  {
   "cell_type": "code",
   "execution_count": 183,
   "metadata": {
    "ExecuteTime": {
     "end_time": "2019-11-02T17:53:29.594531Z",
     "start_time": "2019-11-02T17:53:29.249072Z"
    }
   },
   "outputs": [
    {
     "name": "stderr",
     "output_type": "stream",
     "text": [
      "/home/eiroamd/.local/lib/python3.6/site-packages/seaborn/axisgrid.py:2065: UserWarning: The `size` parameter has been renamed to `height`; pleaes update your code.\n",
      "  warnings.warn(msg, UserWarning)\n"
     ]
    },
    {
     "data": {
      "text/plain": [
       "Text(0.5, 0.98, 'Variance and Bias for TEST dataframe')"
      ]
     },
     "execution_count": 183,
     "metadata": {},
     "output_type": "execute_result"
    },
    {
     "data": {
      "image/png": "[encoded data removed]",
      "text/plain": [
       "<Figure size 720x360 with 2 Axes>"
      ]
     },
     "metadata": {
      "needs_background": "light"
     },
     "output_type": "display_data"
    }
   ],
   "source": [
    "used_ind = ['y_test_depth_1', 'y_test_depth_10']\n",
    "used_dep = ['ground_truth']\n",
    "sns.pairplot(data= finaldf_test,\n",
    "             y_vars=used_dep, \n",
    "             x_vars=used_ind,\n",
    "             size=5)\n",
    "plt.suptitle('Variance and Bias for TEST dataframe', fontsize='large')"
   ]
  },
  {
   "cell_type": "markdown",
   "metadata": {},
   "source": [
    "For both cases we can see that with low max depths the Bias is very high, although the variance is lower.\n",
    "\n",
    "Also, in both cases, with high max depths, the Bias decreases significantly but the variances increases."
   ]
  },
  {
   "cell_type": "markdown",
   "metadata": {},
   "source": [
    "### Best-Guess Optimal Model\n",
    "What is the max_depth parameter that you think would optimize the model? Run your model and explain its performance."
   ]
  },
  {
   "cell_type": "code",
   "execution_count": 189,
   "metadata": {
    "ExecuteTime": {
     "end_time": "2019-11-02T18:03:30.867497Z",
     "start_time": "2019-11-02T18:03:30.857339Z"
    }
   },
   "outputs": [],
   "source": [
    "houses_X = houses[[col for col in list(houses.columns) if col != 'medv']]\n",
    "houses_y = houses['medv']\n",
    "\n",
    "X_train, X_test, y_train, y_test = train_test_split(houses_X, \n",
    "                                                    houses_y, \n",
    "                                                    test_size=0.25,\n",
    "                                                    random_state=20,\n",
    "                                                    shuffle=True)"
   ]
  },
  {
   "cell_type": "code",
   "execution_count": 192,
   "metadata": {
    "ExecuteTime": {
     "end_time": "2019-11-02T18:03:54.518330Z",
     "start_time": "2019-11-02T18:03:54.298806Z"
    }
   },
   "outputs": [
    {
     "name": "stdout",
     "output_type": "stream",
     "text": [
      "R2 score for the train df with a max_depth = 1 is: 0.611\n",
      "R2 score for the test df with a max_depth = 1 is: 0.402\n",
      "========================================================\n",
      "R2 score for the train df with a max_depth = 2 is: 0.797\n",
      "R2 score for the test df with a max_depth = 2 is: 0.551\n",
      "========================================================\n",
      "R2 score for the train df with a max_depth = 3 is: 0.886\n",
      "R2 score for the test df with a max_depth = 3 is: 0.696\n",
      "========================================================\n",
      "R2 score for the train df with a max_depth = 4 is: 0.921\n",
      "R2 score for the test df with a max_depth = 4 is: 0.713\n",
      "========================================================\n",
      "R2 score for the train df with a max_depth = 5 is: 0.943\n",
      "R2 score for the test df with a max_depth = 5 is: 0.726\n",
      "========================================================\n",
      "R2 score for the train df with a max_depth = 6 is: 0.946\n",
      "R2 score for the test df with a max_depth = 6 is: 0.721\n",
      "========================================================\n",
      "R2 score for the train df with a max_depth = 7 is: 0.959\n",
      "R2 score for the test df with a max_depth = 7 is: 0.737\n",
      "========================================================\n",
      "R2 score for the train df with a max_depth = 8 is: 0.963\n",
      "R2 score for the test df with a max_depth = 8 is: 0.729\n",
      "========================================================\n",
      "R2 score for the train df with a max_depth = 9 is: 0.965\n",
      "R2 score for the test df with a max_depth = 9 is: 0.725\n",
      "========================================================\n",
      "R2 score for the train df with a max_depth = 10 is: 0.965\n",
      "R2 score for the test df with a max_depth = 10 is: 0.722\n",
      "========================================================\n",
      "R2 score for the train df with a max_depth = 11 is: 0.968\n",
      "R2 score for the test df with a max_depth = 11 is: 0.734\n",
      "========================================================\n",
      "R2 score for the train df with a max_depth = 12 is: 0.965\n",
      "R2 score for the test df with a max_depth = 12 is: 0.722\n",
      "========================================================\n",
      "R2 score for the train df with a max_depth = 13 is: 0.969\n",
      "R2 score for the test df with a max_depth = 13 is: 0.733\n",
      "========================================================\n",
      "R2 score for the train df with a max_depth = 14 is: 0.97\n",
      "R2 score for the test df with a max_depth = 14 is: 0.721\n",
      "========================================================\n"
     ]
    }
   ],
   "source": [
    "max_depth = list(range(1,15))\n",
    "for i in max_depth:\n",
    "    model = RandomForestRegressor(max_depth=i, random_state=20, n_estimators=10, verbose=False)  # Initiate model\n",
    "    model.fit(X_train, y_train) # Fit model\n",
    "    \n",
    "    # Predicting the outcomes\n",
    "    y_predict_train = model.predict(X_train) \n",
    "    y_predict_test = model.predict(X_test)\n",
    "    \n",
    "    # Getting the R2 scores:\n",
    "    r2_train = performance_metric(y_train, y_predict_train)\n",
    "    r2_test = performance_metric(y_test, y_predict_test)\n",
    "    \n",
    "    # Printing the results:\n",
    "    print('R2 score for the train df with a max_depth = {} is: {}'.format(i, round(r2_train, 3)))\n",
    "    print('R2 score for the test df with a max_depth = {} is: {}'.format(i, round(r2_test, 3)))\n",
    "    print('========================================================')"
   ]
  },
  {
   "cell_type": "markdown",
   "metadata": {},
   "source": [
    "A max_depth = 7 seems to yield the best results, but all of them are overfitted."
   ]
  },
  {
   "cell_type": "markdown",
   "metadata": {},
   "source": [
    "### Applicability\n",
    "*In a few sentences, discuss whether the constructed model should or should not be used in a real-world setting.*  \n",
    "**Hint:** Some questions to answering:\n",
    "- **1.** *How relevant today is data that was collected from 1978?*\n",
    "- **2.** *Are the features present in the data sufficient to describe a home?*\n",
    "- **3.** *Is the model robust enough to make consistent predictions?*\n",
    "- **4.** *Would data collected in an urban city like Boston be applicable in a rural city?*"
   ]
  },
  {
   "cell_type": "markdown",
   "metadata": {
    "ExecuteTime": {
     "end_time": "2019-10-23T22:04:44.939565Z",
     "start_time": "2019-10-23T22:04:35.998Z"
    }
   },
   "source": [
    "- **1.** *The times are a-changing, so I don't think this data reflects the reality of house prices.*\n",
    "- **2.** *Of course we can add more features of a home (size, garden, floors, etc) but it is a start.*\n",
    "- **3.** *Not at all. The model is way too overfitted*\n",
    "- **4.** *Not if we only consider the variables in this dataset.*"
   ]
  }
 ],
 "metadata": {
  "anaconda-cloud": {},
  "hide_input": false,
  "kernelspec": {
   "display_name": "Python 3",
   "language": "python",
   "name": "python3"
  },
  "language_info": {
   "codemirror_mode": {
    "name": "ipython",
    "version": 3
   },
   "file_extension": ".py",
   "mimetype": "text/x-python",
   "name": "python",
   "nbconvert_exporter": "python",
   "pygments_lexer": "ipython3",
   "version": "3.6.8"
  },
  "toc": {
   "base_numbering": 1,
   "nav_menu": {},
   "number_sections": true,
   "sideBar": true,
   "skip_h1_title": false,
   "title_cell": "Table of Contents",
   "title_sidebar": "Contents",
   "toc_cell": false,
   "toc_position": {},
   "toc_section_display": true,
   "toc_window_display": false
  },
  "varInspector": {
   "cols": {
    "lenName": 16,
    "lenType": 16,
    "lenVar": 40
   },
   "kernels_config": {
    "python": {
     "delete_cmd_postfix": "",
     "delete_cmd_prefix": "del ",
     "library": "var_list.py",
     "varRefreshCmd": "print(var_dic_list())"
    },
    "r": {
     "delete_cmd_postfix": ") ",
     "delete_cmd_prefix": "rm(",
     "library": "var_list.r",
     "varRefreshCmd": "cat(var_dic_list()) "
    }
   },
   "types_to_exclude": [
    "module",
    "function",
    "builtin_function_or_method",
    "instance",
    "_Feature"
   ],
   "window_display": false
  }
 },
 "nbformat": 4,
 "nbformat_minor": 1
}
